{
  "nbformat": 4,
  "nbformat_minor": 0,
  "metadata": {
    "colab": {
      "provenance": [],
      "include_colab_link": true
    },
    "kernelspec": {
      "name": "python3",
      "display_name": "Python 3"
    },
    "accelerator": "GPU"
  },
  "cells": [
    {
      "cell_type": "markdown",
      "metadata": {
        "id": "view-in-github",
        "colab_type": "text"
      },
      "source": [
        "<a href=\"https://colab.research.google.com/github/hahahonline/YOLOv4-Deteccao-de-objetos-Videos-Darknet/blob/main/(meu)_YOLO_v4_Detec%C3%A7%C3%A3o_de_objetos_V%C3%ADdeos_Darknet.ipynb\" target=\"_parent\"><img src=\"https://colab.research.google.com/assets/colab-badge.svg\" alt=\"Open In Colab\"/></a>"
      ]
    },
    {
      "cell_type": "markdown",
      "metadata": {
        "id": "HJlxFBhB-ueB"
      },
      "source": [
        "# Detectando objetos em videos com YOLOv4"
      ]
    },
    {
      "cell_type": "markdown",
      "metadata": {
        "id": "1Y9JPs-w7Ohe"
      },
      "source": [
        "## Etapa 1 - Download do Darknet"
      ]
    },
    {
      "cell_type": "code",
      "metadata": {
        "id": "Ph5afD0r6CCK"
      },
      "source": [
        "!git clone https://github.com/AlexeyAB/darknet"
      ],
      "execution_count": null,
      "outputs": []
    },
    {
      "cell_type": "code",
      "metadata": {
        "id": "iV_JkQPl7IcO"
      },
      "source": [
        "%cd darknet"
      ],
      "execution_count": null,
      "outputs": []
    },
    {
      "cell_type": "code",
      "metadata": {
        "id": "Jv13sh267KB-"
      },
      "source": [
        "ls"
      ],
      "execution_count": null,
      "outputs": []
    },
    {
      "cell_type": "markdown",
      "metadata": {
        "id": "JoM7tA-t7X14"
      },
      "source": [
        "## Etapa 2 - Compilando a biblioteca"
      ]
    },
    {
      "cell_type": "code",
      "metadata": {
        "id": "cQBgQsYG7Stg"
      },
      "source": [
        "!sed -i 's/OPENCV=0/OPENCV=1/' Makefile\n",
        "!sed -i 's/GPU=0/GPU=1/' Makefile\n",
        "!sed -i 's/CUDNN=0/CUDNN=1/' Makefile"
      ],
      "execution_count": null,
      "outputs": []
    },
    {
      "cell_type": "code",
      "metadata": {
        "id": "9SVY78Iy6TpR"
      },
      "source": [
        "import tensorflow as tf\n",
        "device_name = tf.test.gpu_device_name()\n",
        "print(device_name)"
      ],
      "execution_count": null,
      "outputs": []
    },
    {
      "cell_type": "code",
      "metadata": {
        "id": "ccQBOhDz7Vb9"
      },
      "source": [
        "!make"
      ],
      "execution_count": null,
      "outputs": []
    },
    {
      "cell_type": "markdown",
      "metadata": {
        "id": "jmP-dVBo7b-O"
      },
      "source": [
        "## Etapa 3 - Carregando os pesos do modelo pré-treinado"
      ]
    },
    {
      "cell_type": "code",
      "metadata": {
        "id": "2uAfJg2KfNgJ"
      },
      "source": [
        "from google.colab import drive\n",
        "drive.mount('/content/gdrive')"
      ],
      "execution_count": null,
      "outputs": []
    },
    {
      "cell_type": "code",
      "metadata": {
        "id": "Yg-zzxrzqsJW"
      },
      "source": [
        "#!wget https://github.com/AlexeyAB/darknet/releases/download/darknet_yolo_v3_optimal/yolov4.weights"
      ],
      "execution_count": null,
      "outputs": []
    },
    {
      "cell_type": "code",
      "metadata": {
        "id": "nVxRo0GlUO1B"
      },
      "source": [
        "#este código está descompactando um arquivo zip localizado no caminho especificado \n",
        "#e extraindo todo o seu conteúdo para o diretório atual.\n",
        "import zipfile\n",
        "path = \"/content/gdrive/My Drive/Cursos/YOLO/modelo_YOLOv4.zip\"\n",
        "zip_object = zipfile.ZipFile(file=path, mode=\"r\")\n",
        "zip_object.extractall(\"./\")\n",
        "zip_object.close()"
      ],
      "execution_count": null,
      "outputs": []
    },
    {
      "cell_type": "markdown",
      "metadata": {
        "id": "VgRfy3HVDy2U"
      },
      "source": [
        "## Etapa 4 - Carregando o vídeo"
      ]
    },
    {
      "cell_type": "markdown",
      "metadata": {
        "id": "zMMvjR7qg0s4"
      },
      "source": [
        "### 4.1 - De uma url"
      ]
    },
    {
      "cell_type": "code",
      "metadata": {
        "id": "Sukkx62w7tzl"
      },
      "source": [
        "#você pode carregar o video dessa URL ou do google drive (bloco abaixo)\n",
        "#!wget https://github.com/gabevr/yolo/raw/master/videos/video_teste02.mp4"
      ],
      "execution_count": null,
      "outputs": []
    },
    {
      "cell_type": "markdown",
      "metadata": {
        "id": "gFx-1PfvE4sK"
      },
      "source": [
        "### 4.2 - Do Google Drive\n"
      ]
    },
    {
      "cell_type": "code",
      "metadata": {
        "id": "Oq6XR5mFr6rt"
      },
      "source": [
        "#Esse comando usa a ferramenta cp do sistema operacional Unix para copiar um arquivo de um diretório do Google Drive para o diretório atual (./), que é o diretório raiz do ambiente de execução atual no Colab.\n",
        "#O ./ é um caminho relativo que indica o diretório atual em que o comando está sendo executado.\n",
        "!cp /content/gdrive/My\\ Drive/Cursos/YOLO/videos/uniceub.mp4 ./"
      ],
      "execution_count": null,
      "outputs": []
    },
    {
      "cell_type": "code",
      "metadata": {
        "id": "jAQfpgrY_MV8"
      },
      "source": [
        "ls"
      ],
      "execution_count": null,
      "outputs": []
    },
    {
      "cell_type": "markdown",
      "metadata": {
        "id": "bQx3vG01iDle"
      },
      "source": [
        "## Etapa 5 - Realizando a detecção em vídeo"
      ]
    },
    {
      "cell_type": "code",
      "metadata": {
        "id": "X4_7qRAaH9VY"
      },
      "source": [
        "#detector demo = executar o modelo YOLO em um arquivo de vídeo ou webcam ao vivo para detectar objetos em tempo real\n",
        "#yolov4.cfg = estrutura da rede neural\n",
        "#yolov4.weights = pesos \n",
        "#dont_show = pra nao mostrar o processamento\n",
        "#indica que o Darknet deve usar o dispositivo de entrada de vídeo número 0, que é geralmente a webcam padrão do computador. (não vai funcionar pq eu passei um video na entrada)\n",
        "!./darknet detector demo cfg/coco.data cfg/yolov4.cfg yolov4.weights -dont_show uniceub.mp4 -i 0 -out_filename resultado_ceub.avi"
      ],
      "execution_count": null,
      "outputs": []
    },
    {
      "cell_type": "code",
      "metadata": {
        "id": "Qf5XKwz-JRWt"
      },
      "source": [
        "#mostrando o tamanho do arquivo\n",
        "!du -h resultado.avi"
      ],
      "execution_count": null,
      "outputs": []
    },
    {
      "cell_type": "markdown",
      "metadata": {
        "id": "rexJAnVLjDIy"
      },
      "source": [
        "## Etapa 6 - Visualizando o resultado"
      ]
    },
    {
      "cell_type": "code",
      "metadata": {
        "id": "0xlAxBzeJYX4"
      },
      "source": [
        "!cp ./resultado.avi /content/gdrive/My\\ Drive/Cursos/YOLO/videos/resultado1.avi"
      ],
      "execution_count": null,
      "outputs": []
    },
    {
      "cell_type": "markdown",
      "metadata": {
        "id": "6B6MDEwGRPaF"
      },
      "source": [
        "## Especificando um threshold"
      ]
    },
    {
      "cell_type": "code",
      "metadata": {
        "id": "iGbFp91hL2SG"
      },
      "source": [
        "#você pode carregar o video dessa URL ou do seu google drive (bloco abaixo)\n",
        "#!wget https://github.com/gabevr/yolo/raw/master/videos/video_rua01.mp4"
      ],
      "execution_count": null,
      "outputs": []
    },
    {
      "cell_type": "code",
      "metadata": {
        "id": "BO2DA0FTL4tY"
      },
      "source": [
        "#faz uma copia do video do meu diretorio do drive  \n",
        "!cp /content/gdrive/My\\ Drive/Cursos/YOLO/videos/resultado_uniceub.avi ./"
      ],
      "execution_count": null,
      "outputs": []
    },
    {
      "cell_type": "code",
      "metadata": {
        "id": "OSQeTgtMMPh3"
      },
      "source": [
        "#detector demo = executar o modelo YOLO em um arquivo de vídeo ou webcam ao vivo para detectar objetos em tempo real\n",
        "#yolov4.cfg = estrutura da rede neural\n",
        "#yolov4.weights = pesos \n",
        "#dont_show = pra nao mostrar o processamento\n",
        "#thresh = nivel de confiança da detecção de objeto \n",
        "!./darknet detector demo cfg/coco.data cfg/yolov4.cfg yolov4.weights -dont_show resultado_uniceub.avi -out_filename resultado_uniceub2.avi -thresh 0.2"
      ],
      "execution_count": null,
      "outputs": []
    },
    {
      "cell_type": "code",
      "metadata": {
        "id": "GnO-ny02MzFc"
      },
      "source": [
        "#copiando o video na pasta do google drive\n",
        "!cp ./resultado_uniceub2.avi /content/gdrive/My\\ Drive/Cursos/YOLO/videos/resultado_uniceub2.avi"
      ],
      "execution_count": null,
      "outputs": []
    }
  ]
}